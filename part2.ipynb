{
 "cells": [
  {
   "cell_type": "code",
   "execution_count": 216,
   "metadata": {
    "collapsed": true
   },
   "outputs": [],
   "source": [
    "# Test task for Kuznech Team. Completed and tested. \n",
    "# Script 2\n",
    "\n",
    "# import some useful libraries\n",
    "%matplotlib inline\n",
    "import matplotlib.pyplot as plt\n",
    "import tensorflow as tf\n",
    "import numpy as np\n",
    "from sklearn.metrics import confusion_matrix\n",
    "import time\n",
    "from datetime import timedelta\n",
    "import math\n",
    "import gzip\n",
    "import os"
   ]
  },
  {
   "cell_type": "code",
   "execution_count": 187,
   "metadata": {
    "collapsed": false
   },
   "outputs": [],
   "source": [
    "# dances with tambourines\n",
    "file_path = 'checkpoints/transfer_values'\n",
    "with open(file_path, mode='rb') as file:\n",
    "    transfer_values = np.load(file)"
   ]
  },
  {
   "cell_type": "code",
   "execution_count": 188,
   "metadata": {
    "collapsed": false
   },
   "outputs": [],
   "source": [
    "# dances with tambourines\n",
    "file_path122 = 'checkpoints/train_labels'\n",
    "with open(file_path122, mode='rb') as file:\n",
    "    train_labels = np.load(file)"
   ]
  },
  {
   "cell_type": "code",
   "execution_count": 189,
   "metadata": {
    "collapsed": true
   },
   "outputs": [],
   "source": [
    "# dances with tambourines\n",
    "file_path_train_images = 'checkpoints/train_images'\n",
    "with open(file_path_train_images, mode='rb') as file:\n",
    "    train_images = np.load(file)"
   ]
  },
  {
   "cell_type": "code",
   "execution_count": 190,
   "metadata": {
    "collapsed": true
   },
   "outputs": [],
   "source": [
    "# dances with tambourines\n",
    "file_path_test_images = 'checkpoints/test_images'\n",
    "with open(file_path_test_images, mode='rb') as file:\n",
    "    test_images = np.load(file)"
   ]
  },
  {
   "cell_type": "code",
   "execution_count": 191,
   "metadata": {
    "collapsed": true
   },
   "outputs": [],
   "source": [
    "# dances with tambourines\n",
    "file_path_test_labels = 'checkpoints/test_labels'\n",
    "with open(file_path_test_labels, mode='rb') as file:\n",
    "    test_labels = np.load(file)"
   ]
  },
  {
   "cell_type": "code",
   "execution_count": 254,
   "metadata": {
    "collapsed": false
   },
   "outputs": [],
   "source": [
    "# we need these variables for plotting images\n",
    "img_size = 28\n",
    "img_size_flat = img_size * img_size\n",
    "img_shape = (img_size, img_size)\n",
    "\n",
    "# these varibles need for construction tensorflow graph\n",
    "num_classes = 10\n",
    "input_size = 128\n",
    "latent_layer_size = 48 # we can change this value to bigger number e.g. 128, btw we could achieve better performance"
   ]
  },
  {
   "cell_type": "code",
   "execution_count": 195,
   "metadata": {
    "collapsed": false
   },
   "outputs": [],
   "source": [
    "# convert from 10 dim vector to single number that shows us true class of image\n",
    "cls_true = np.argmax(train_labels, axis=1)"
   ]
  },
  {
   "cell_type": "code",
   "execution_count": 196,
   "metadata": {
    "collapsed": true
   },
   "outputs": [],
   "source": [
    "# construction tensorflow graph\n",
    "x = tf.placeholder(tf.float32, shape=[None, input_size], name='x')"
   ]
  },
  {
   "cell_type": "code",
   "execution_count": 197,
   "metadata": {
    "collapsed": true
   },
   "outputs": [],
   "source": [
    "# construction tensorflow graph\n",
    "y_true = tf.placeholder(tf.float32, shape=[None, 10], name='y_true')"
   ]
  },
  {
   "cell_type": "code",
   "execution_count": 198,
   "metadata": {
    "collapsed": true
   },
   "outputs": [],
   "source": [
    "# construction tensorflow graph\n",
    "y_true_cls = tf.argmax(y_true, dimension=1)"
   ]
  },
  {
   "cell_type": "code",
   "execution_count": 199,
   "metadata": {
    "collapsed": true
   },
   "outputs": [],
   "source": [
    "# function for random initialization weights and biases\n",
    "def new_weights(shape):\n",
    "    return tf.Variable(tf.truncated_normal(shape, stddev=0.05))\n",
    "def new_biases(length):\n",
    "    return tf.Variable(tf.constant(0.05, shape=[length]))"
   ]
  },
  {
   "cell_type": "code",
   "execution_count": 200,
   "metadata": {
    "collapsed": true
   },
   "outputs": [],
   "source": [
    "# here we using sigmoid activation function, that returns all the values between 0 and 1. \n",
    "def new_sigmoid_layer(input,\n",
    "                     num_inputs,\n",
    "                     num_outputs):\n",
    "    weights = new_weights(shape=[num_inputs, num_outputs])\n",
    "    biases = new_biases(length=num_outputs)\n",
    "    layer = tf.nn.sigmoid(tf.matmul(input, weights))\n",
    "    \n",
    "    return layer"
   ]
  },
  {
   "cell_type": "code",
   "execution_count": 201,
   "metadata": {
    "collapsed": false
   },
   "outputs": [],
   "source": [
    "# construction tensorflow graph\n",
    "layer_fc1 = new_sigmoid_layer(input=x,\n",
    "                              num_inputs=input_size,\n",
    "                              num_outputs=latent_layer_size)"
   ]
  },
  {
   "cell_type": "code",
   "execution_count": 202,
   "metadata": {
    "collapsed": true
   },
   "outputs": [],
   "source": [
    "# construction tensorflow graph\n",
    "layer_fc2 = new_sigmoid_layer(input=layer_fc1,\n",
    "                              num_inputs=latent_layer_size,\n",
    "                              num_outputs=num_classes)"
   ]
  },
  {
   "cell_type": "code",
   "execution_count": 203,
   "metadata": {
    "collapsed": true
   },
   "outputs": [],
   "source": [
    "# construction tensorflow graph\n",
    "y_pred = tf.nn.softmax(layer_fc2)"
   ]
  },
  {
   "cell_type": "code",
   "execution_count": 204,
   "metadata": {
    "collapsed": true
   },
   "outputs": [],
   "source": [
    "# construction tensorflow graph\n",
    "y_pred_cls = tf.argmax(y_pred, dimension=1)"
   ]
  },
  {
   "cell_type": "code",
   "execution_count": 205,
   "metadata": {
    "collapsed": true
   },
   "outputs": [],
   "source": [
    "# construction tensorflow graph\n",
    "cross_entropy = tf.nn.softmax_cross_entropy_with_logits(logits=layer_fc2,\n",
    "                                                        labels=y_true)"
   ]
  },
  {
   "cell_type": "code",
   "execution_count": 206,
   "metadata": {
    "collapsed": true
   },
   "outputs": [],
   "source": [
    "# construction tensorflow graph\n",
    "cost = tf.reduce_mean(cross_entropy)"
   ]
  },
  {
   "cell_type": "code",
   "execution_count": 207,
   "metadata": {
    "collapsed": true
   },
   "outputs": [],
   "source": [
    "# construction tensorflow graph\n",
    "optimizer = tf.train.AdamOptimizer(learning_rate=1e-4).minimize(cost)"
   ]
  },
  {
   "cell_type": "code",
   "execution_count": 208,
   "metadata": {
    "collapsed": true
   },
   "outputs": [],
   "source": [
    "# construction tensorflow graph\n",
    "correct_prediction = tf.equal(y_pred_cls, y_true_cls)"
   ]
  },
  {
   "cell_type": "code",
   "execution_count": 209,
   "metadata": {
    "collapsed": true
   },
   "outputs": [],
   "source": [
    "# construction tensorflow graph\n",
    "accuracy = tf.reduce_mean(tf.cast(correct_prediction, tf.float32))"
   ]
  },
  {
   "cell_type": "code",
   "execution_count": 210,
   "metadata": {
    "collapsed": true
   },
   "outputs": [],
   "source": [
    "# construction tensorflow graph\n",
    "session = tf.Session()"
   ]
  },
  {
   "cell_type": "code",
   "execution_count": 211,
   "metadata": {
    "collapsed": true
   },
   "outputs": [],
   "source": [
    "# construction tensorflow graph. here we run initialization of all the variables in tensorflow \n",
    "session.run(tf.initialize_all_variables())"
   ]
  },
  {
   "cell_type": "code",
   "execution_count": 212,
   "metadata": {
    "collapsed": true
   },
   "outputs": [],
   "source": [
    "# during feedforward propagation we use optimization with mini bathces\n",
    "train_batch_size = 64"
   ]
  },
  {
   "cell_type": "code",
   "execution_count": 223,
   "metadata": {
    "collapsed": true
   },
   "outputs": [],
   "source": [
    "# function that randomly retrieve data for feeding our tf graph\n",
    "def random_batch():\n",
    "    num_values = len(transfer_values)\n",
    "    idx = np.random.choice(num_values,\n",
    "                           train_batch_size,\n",
    "                           replace=False)\n",
    "    x_batch = transfer_values[idx, :]\n",
    "    y_batch = train_labels[idx, :]\n",
    "    \n",
    "    return x_batch, y_batch"
   ]
  },
  {
   "cell_type": "code",
   "execution_count": 224,
   "metadata": {
    "collapsed": true
   },
   "outputs": [],
   "source": [
    "# function for optimization our second model\n",
    "\n",
    "total_iterations = 0\n",
    "\n",
    "def optimize(num_iterations):\n",
    "    global total_iterations\n",
    "    start_time = time.time()\n",
    "    for i in range(total_iterations, total_iterations+num_iterations):\n",
    "        x_batch, y_true_batch = random_batch()\n",
    "        # x_batch = transfer_values\n",
    "        # y_true_batch = labels\n",
    "        feed_dict_train = {x: x_batch,\n",
    "                           y_true: y_true_batch}\n",
    "        session.run(optimizer, feed_dict=feed_dict_train)\n",
    "        \n",
    "        if i%100 == 0:\n",
    "            acc = session.run(accuracy, feed_dict=feed_dict_train)\n",
    "            msg = \"Optimization iteration: {0:>6}, Training Accuracy: {1:>6.1%}\"\n",
    "            print(msg.format(i + 1, acc))\n",
    "            \n",
    "    total_iterations += num_iterations\n",
    "    end_time = time.time()\n",
    "    time_dif = end_time - start_time\n",
    "    print(\"Time usage: \" + str(timedelta(seconds=int(round(time_dif)))))"
   ]
  },
  {
   "cell_type": "code",
   "execution_count": 225,
   "metadata": {
    "collapsed": false,
    "scrolled": false
   },
   "outputs": [
    {
     "name": "stdout",
     "output_type": "stream",
     "text": [
      "Optimization iteration:      1, Training Accuracy:  18.8%\n",
      "Optimization iteration:    101, Training Accuracy:  45.3%\n",
      "Optimization iteration:    201, Training Accuracy:  70.3%\n",
      "Optimization iteration:    301, Training Accuracy:  85.9%\n",
      "Optimization iteration:    401, Training Accuracy:  87.5%\n",
      "Optimization iteration:    501, Training Accuracy:  90.6%\n",
      "Optimization iteration:    601, Training Accuracy:  93.8%\n",
      "Optimization iteration:    701, Training Accuracy:  85.9%\n",
      "Optimization iteration:    801, Training Accuracy:  82.8%\n",
      "Optimization iteration:    901, Training Accuracy:  93.8%\n",
      "Optimization iteration:   1001, Training Accuracy:  90.6%\n",
      "Optimization iteration:   1101, Training Accuracy:  90.6%\n",
      "Optimization iteration:   1201, Training Accuracy:  89.1%\n",
      "Optimization iteration:   1301, Training Accuracy:  92.2%\n",
      "Optimization iteration:   1401, Training Accuracy:  89.1%\n",
      "Optimization iteration:   1501, Training Accuracy:  93.8%\n",
      "Optimization iteration:   1601, Training Accuracy:  90.6%\n",
      "Optimization iteration:   1701, Training Accuracy:  87.5%\n",
      "Optimization iteration:   1801, Training Accuracy:  95.3%\n",
      "Optimization iteration:   1901, Training Accuracy:  95.3%\n",
      "Optimization iteration:   2001, Training Accuracy:  98.4%\n",
      "Optimization iteration:   2101, Training Accuracy:  95.3%\n",
      "Optimization iteration:   2201, Training Accuracy:  93.8%\n",
      "Optimization iteration:   2301, Training Accuracy:  96.9%\n",
      "Optimization iteration:   2401, Training Accuracy:  95.3%\n",
      "Optimization iteration:   2501, Training Accuracy:  93.8%\n",
      "Optimization iteration:   2601, Training Accuracy:  96.9%\n",
      "Optimization iteration:   2701, Training Accuracy:  90.6%\n",
      "Optimization iteration:   2801, Training Accuracy:  87.5%\n",
      "Optimization iteration:   2901, Training Accuracy:  93.8%\n",
      "Time usage: 0:00:13\n"
     ]
    }
   ],
   "source": [
    "# run optimization.\n",
    "optimize(num_iterations=3000)"
   ]
  },
  {
   "cell_type": "code",
   "execution_count": 226,
   "metadata": {
    "collapsed": false
   },
   "outputs": [],
   "source": [
    "# assign saver for further saving second trained model\n",
    "saver = tf.train.Saver()"
   ]
  },
  {
   "cell_type": "code",
   "execution_count": 227,
   "metadata": {
    "collapsed": false
   },
   "outputs": [],
   "source": [
    "# location for saving\n",
    "save_dir = 'checkpoints/'\n",
    "if not os.path.exists(save_dir):\n",
    "    os.makedirs(save_dir)\n",
    "\n",
    "save_path = save_dir + 'sigmoid_retrain'"
   ]
  },
  {
   "cell_type": "code",
   "execution_count": 228,
   "metadata": {
    "collapsed": false
   },
   "outputs": [
    {
     "data": {
      "text/plain": [
       "'checkpoints/sigmoid_retrain'"
      ]
     },
     "execution_count": 228,
     "metadata": {},
     "output_type": "execute_result"
    }
   ],
   "source": [
    "# run script for saving\n",
    "saver.save(sess=session, save_path=save_path)"
   ]
  },
  {
   "cell_type": "code",
   "execution_count": 229,
   "metadata": {
    "collapsed": true
   },
   "outputs": [],
   "source": [
    "# this function is used for retrieving data from latent. We gonna process all the images from training set\n",
    "# and save them into numpy file\n",
    "def extract_latent_layer(layer):\n",
    "    images = transfer_values\n",
    "    num_images = len(images)\n",
    "    result = np.zeros(shape=[num_images, latent_layer_size], dtype = np.float32)\n",
    "    i = 0\n",
    "    \n",
    "    while i < num_images:\n",
    "        image = images[i, :]\n",
    "        feed_dict = {x: [image]}\n",
    "        value = session.run(layer, feed_dict=feed_dict)\n",
    "        value = np.squeeze(value)\n",
    "        result[i] = value\n",
    "        i = i + 1\n",
    "    \n",
    "    file_path = save_dir + 'latent_layer_values'\n",
    "    with open(file_path, mode='wb') as file:\n",
    "        np.save(file, result)"
   ]
  },
  {
   "cell_type": "code",
   "execution_count": 230,
   "metadata": {
    "collapsed": false
   },
   "outputs": [],
   "source": [
    "# usually it takes couple of minutes for entire training set\n",
    "extract_latent_layer(layer_fc1)"
   ]
  },
  {
   "cell_type": "code",
   "execution_count": 231,
   "metadata": {
    "collapsed": true
   },
   "outputs": [],
   "source": [
    "# load numpy file with latent layer\n",
    "file_path_latent = save_dir + 'latent_layer_values'\n",
    "with open(file_path_latent, mode='rb') as file:\n",
    "    latent_layer_values = np.load(file)"
   ]
  },
  {
   "cell_type": "code",
   "execution_count": 232,
   "metadata": {
    "collapsed": true
   },
   "outputs": [],
   "source": [
    "# finallly, we get binaries\n",
    "binary_signatures = np.round(latent_layer_values)"
   ]
  },
  {
   "cell_type": "code",
   "execution_count": 233,
   "metadata": {
    "collapsed": false
   },
   "outputs": [
    {
     "data": {
      "text/plain": [
       "(55000, 48)"
      ]
     },
     "execution_count": 233,
     "metadata": {},
     "output_type": "execute_result"
    }
   ],
   "source": [
    "binary_signatures.shape"
   ]
  },
  {
   "cell_type": "code",
   "execution_count": 234,
   "metadata": {
    "collapsed": true
   },
   "outputs": [],
   "source": [
    "# This is function for computing hamming distances for query image\n",
    "def compute_hamming_distance(input_vector):\n",
    "    num_images = len(binary_signatures)\n",
    "    distance = np.zeros(shape=[num_images, 1], dtype=np.int)\n",
    "    \n",
    "    for i in range(0, num_images - 1):\n",
    "        image = binary_signatures[i, :]\n",
    "        z = 0\n",
    "        for j in range(0, len(image)):\n",
    "            if input_vector[j] != image[j]:\n",
    "                z += 1\n",
    "            distance[i] = z\n",
    "            \n",
    "    return distance"
   ]
  },
  {
   "cell_type": "code",
   "execution_count": 235,
   "metadata": {
    "collapsed": false
   },
   "outputs": [],
   "source": [
    "# just checking if everything works OK\n",
    "distances = compute_hamming_distance(binary_signatures[0, :])"
   ]
  },
  {
   "cell_type": "code",
   "execution_count": 236,
   "metadata": {
    "collapsed": true
   },
   "outputs": [],
   "source": [
    "# we need to squeeze initial array with distances, cause we need just single array, NOT \"arrays in array\"\n",
    "dist = np.squeeze(distances)"
   ]
  },
  {
   "cell_type": "code",
   "execution_count": 239,
   "metadata": {
    "collapsed": false
   },
   "outputs": [
    {
     "data": {
      "text/plain": [
       "array([ 0, 16, 24, 13, 21,  1, 20, 20, 17,  4])"
      ]
     },
     "execution_count": 239,
     "metadata": {},
     "output_type": "execute_result"
    }
   ],
   "source": [
    "# just check some distances\n",
    "dist[0:10]"
   ]
  },
  {
   "cell_type": "code",
   "execution_count": 240,
   "metadata": {
    "collapsed": false
   },
   "outputs": [
    {
     "data": {
      "text/plain": [
       "array([8, 2, 1, 5, 5, 8, 5, 0, 2, 8])"
      ]
     },
     "execution_count": 240,
     "metadata": {},
     "output_type": "execute_result"
    }
   ],
   "source": [
    "# just check classes of the images\n",
    "np.argmax(train_labels[0:10], axis=1)"
   ]
  },
  {
   "cell_type": "code",
   "execution_count": 241,
   "metadata": {
    "collapsed": false
   },
   "outputs": [],
   "source": [
    "# here we compute k nearest neighbors. I used np.argsort this time, however this is not best solution, cause its sort\n",
    "# through all the values in array and for large data sets could be computationally expensive.\n",
    "# Further we can replace np.argsort with np.argpartition. But in my system argpartition behave quite buggy\n",
    "\n",
    "def compute_nearest_neighbors(distances, k):\n",
    "    num_labels = len(distances)\n",
    "    dist = distances\n",
    "    idx = np.argsort(dist)\n",
    "    idx = idx[0:k]\n",
    "    return idx\n",
    "            "
   ]
  },
  {
   "cell_type": "code",
   "execution_count": 246,
   "metadata": {
    "collapsed": false
   },
   "outputs": [],
   "source": [
    "# just check if everything works OK\n",
    "r = compute_nearest_neighbors(distances=dist, k=9)"
   ]
  },
  {
   "cell_type": "code",
   "execution_count": 247,
   "metadata": {
    "collapsed": false
   },
   "outputs": [
    {
     "data": {
      "text/plain": [
       "array([    0,  7674,  8446,  8453,  8644,  9783, 10774, 19232, 21307])"
      ]
     },
     "execution_count": 247,
     "metadata": {},
     "output_type": "execute_result"
    }
   ],
   "source": [
    "# just check if everything works OK\n",
    "r"
   ]
  },
  {
   "cell_type": "code",
   "execution_count": 248,
   "metadata": {
    "collapsed": false
   },
   "outputs": [
    {
     "data": {
      "text/plain": [
       "array([0, 0, 0, 0, 0, 0, 0, 0, 0])"
      ]
     },
     "execution_count": 248,
     "metadata": {},
     "output_type": "execute_result"
    }
   ],
   "source": [
    "# just check if everything works OK\n",
    "dist[r]"
   ]
  },
  {
   "cell_type": "code",
   "execution_count": 251,
   "metadata": {
    "collapsed": false,
    "scrolled": true
   },
   "outputs": [],
   "source": [
    "# just check if everything works OK\n",
    "n = train_labels[r]"
   ]
  },
  {
   "cell_type": "code",
   "execution_count": 255,
   "metadata": {
    "collapsed": true
   },
   "outputs": [],
   "source": [
    "# function for plotting images\n",
    "def plot_images(images, cls_true, cls_pred=None):\n",
    "    assert len(images) == len(cls_true) == 9\n",
    "    \n",
    "    # Create figure with 3x3 sub-plots.\n",
    "    fig, axes = plt.subplots(3, 3)\n",
    "    fig.subplots_adjust(hspace=0.3, wspace=0.3)\n",
    "\n",
    "    for i, ax in enumerate(axes.flat):\n",
    "        # Plot image.\n",
    "        ax.imshow(images[i].reshape(img_shape), cmap='binary')\n",
    "\n",
    "        # Show true and predicted classes.\n",
    "        if cls_pred is None:\n",
    "            xlabel = \"True: {0}\".format(cls_true[i])\n",
    "        else:\n",
    "            xlabel = \"True: {0}, Pred: {1}\".format(cls_true[i], cls_pred[i])\n",
    "\n",
    "        # Show the classes as the label on the x-axis.\n",
    "        ax.set_xlabel(xlabel)\n",
    "        \n",
    "        # Remove ticks from the plot.\n",
    "        ax.set_xticks([])\n",
    "        ax.set_yticks([])\n",
    "    \n",
    "    # Ensure the plot is shown correctly with multiple plots\n",
    "    # in a single Notebook cell.\n",
    "    plt.show()"
   ]
  },
  {
   "cell_type": "code",
   "execution_count": 256,
   "metadata": {
    "collapsed": false
   },
   "outputs": [
    {
     "data": {
      "image/png": "[encoded data removed]",
      "text/plain": [
       "<matplotlib.figure.Figure at 0x11c9e7630>"
      ]
     },
     "metadata": {},
     "output_type": "display_data"
    }
   ],
   "source": [
    "# just check if everything works OK\n",
    "plot_images(train_images[r], cls_true[r])"
   ]
  },
  {
   "cell_type": "code",
   "execution_count": null,
   "metadata": {
    "collapsed": true
   },
   "outputs": [],
   "source": [
    "# As you can see Taiwanese comrads were right, despite tricky explanation, their algorithm works well"
   ]
  }
 ],
 "metadata": {
  "anaconda-cloud": {},
  "kernelspec": {
   "display_name": "Python [conda env:tensorflow]",
   "language": "python",
   "name": "conda-env-tensorflow-py"
  },
  "language_info": {
   "codemirror_mode": {
    "name": "ipython",
    "version": 3
   },
   "file_extension": ".py",
   "mimetype": "text/x-python",
   "name": "python",
   "nbconvert_exporter": "python",
   "pygments_lexer": "ipython3",
   "version": "3.5.2"
  }
 },
 "nbformat": 4,
 "nbformat_minor": 1
}
